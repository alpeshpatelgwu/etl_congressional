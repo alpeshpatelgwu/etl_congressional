{
 "cells": [
  {
   "cell_type": "code",
   "execution_count": 35,
   "metadata": {},
   "outputs": [],
   "source": [
    "#Dependencies\n",
    "import requests\n",
    "from pprint import pprint\n",
    "from config import opensecret_api_key, propublica_api_key"
   ]
  },
  {
   "cell_type": "code",
   "execution_count": 50,
   "metadata": {},
   "outputs": [
    {
     "name": "stdout",
     "output_type": "stream",
     "text": [
      "https://www.opensecrets.org/api/?method=candIndustry&cid=N00000528&industry_code=G2860&cycle=2018&output=json&apikey=7e3720f40a135bbfb0c29f4f6e4570c6\n"
     ]
    }
   ],
   "source": [
    "#https://www.opensecrets.org/api/?method=candContrib&cid=N00007360&cycle=2018&apikey=__apikey__\n",
    "\n",
    "#candContrib&cid=N00007360&cycle=2018&apikey=__apikey__\"\n",
    "\n",
    "#candContrib - Returns top contributors to specified candidate for\n",
    "# House or Senate seat or member of congress \n",
    "#6 year numb\n",
    "\n",
    "url = \"https://www.opensecrets.org/api/?method=candIndustry\"\n",
    "\n",
    "#CID for Bernie Sanders = N00043046\n",
    "\n",
    "#cid = \"N00000528\"\n",
    "#cycle = \"2018\"\n",
    "output = \"json\"\n",
    "industry_code = \"G2860\"\n",
    "\n",
    "\n",
    "query_url = url + \"&cid=\" + cid + \"&industry_code=\" + industry_code + \"&cycle=\" + cycle + \"&output=\" + output +\"&apikey=\"  + opensecret_api_key\n",
    "\n",
    "#query_url = url + \"&cid=\" + cid + \"&cycle=\" + cycle + \"&output=\" + output +\"&apikey=\"  + opensecret_api_key\n",
    "\n",
    "print(query_url)\n"
   ]
  },
  {
   "cell_type": "code",
   "execution_count": 51,
   "metadata": {},
   "outputs": [],
   "source": [
    "candidate_r = requests.get(query_url)"
   ]
  },
  {
   "cell_type": "code",
   "execution_count": 52,
   "metadata": {},
   "outputs": [
    {
     "data": {
      "text/plain": [
       "<Response [200]>"
      ]
     },
     "execution_count": 52,
     "metadata": {},
     "output_type": "execute_result"
    }
   ],
   "source": [
    "candidate_r"
   ]
  },
  {
   "cell_type": "code",
   "execution_count": 53,
   "metadata": {},
   "outputs": [
    {
     "name": "stdout",
     "output_type": "stream",
     "text": [
      "{'response': {'industries': {'@attributes': {'cand_name': 'Bernie Sanders (I)',\n",
      "                                             'cid': 'N00000528',\n",
      "                                             'cycle': '2018',\n",
      "                                             'last_updated': '02/01/2019',\n",
      "                                             'origin': 'Center for Responsive '\n",
      "                                                       'Politics',\n",
      "                                             'source': 'https://www.opensecrets.org/members-of-congress/industries?cid=N00000528&cycle=2018'},\n",
      "                             'industry': [{'@attributes': {'indivs': '954121',\n",
      "                                                           'industry_code': 'W06',\n",
      "                                                           'industry_name': 'Retired',\n",
      "                                                           'pacs': '0',\n",
      "                                                           'total': '954121'}},\n",
      "                                          {'@attributes': {'indivs': '314447',\n",
      "                                                           'industry_code': 'W04',\n",
      "                                                           'industry_name': 'Education',\n",
      "                                                           'pacs': '0',\n",
      "                                                           'total': '314447'}},\n",
      "                                          {'@attributes': {'indivs': '150559',\n",
      "                                                           'industry_code': 'Q02',\n",
      "                                                           'industry_name': 'Democratic/Liberal',\n",
      "                                                           'pacs': '16000',\n",
      "                                                           'total': '166559'}},\n",
      "                                          {'@attributes': {'indivs': '136677',\n",
      "                                                           'industry_code': 'H01',\n",
      "                                                           'industry_name': 'Health '\n",
      "                                                                            'Professionals',\n",
      "                                                           'pacs': '9500',\n",
      "                                                           'total': '146177'}},\n",
      "                                          {'@attributes': {'indivs': '100944',\n",
      "                                                           'industry_code': 'W03',\n",
      "                                                           'industry_name': 'Civil '\n",
      "                                                                            'Servants/Public '\n",
      "                                                                            'Officials',\n",
      "                                                           'pacs': '0',\n",
      "                                                           'total': '100944'}},\n",
      "                                          {'@attributes': {'indivs': '85482',\n",
      "                                                           'industry_code': 'K01',\n",
      "                                                           'industry_name': 'Lawyers/Law '\n",
      "                                                                            'Firms',\n",
      "                                                           'pacs': '0',\n",
      "                                                           'total': '85482'}},\n",
      "                                          {'@attributes': {'indivs': '71778',\n",
      "                                                           'industry_code': 'N12',\n",
      "                                                           'industry_name': 'Misc '\n",
      "                                                                            'Business',\n",
      "                                                           'pacs': '0',\n",
      "                                                           'total': '71778'}},\n",
      "                                          {'@attributes': {'indivs': '67903',\n",
      "                                                           'industry_code': 'W07',\n",
      "                                                           'industry_name': 'Other',\n",
      "                                                           'pacs': '0',\n",
      "                                                           'total': '67903'}},\n",
      "                                          {'@attributes': {'indivs': '65266',\n",
      "                                                           'industry_code': 'B12',\n",
      "                                                           'industry_name': 'Electronics '\n",
      "                                                                            'Mfg '\n",
      "                                                                            '& '\n",
      "                                                                            'Equip',\n",
      "                                                           'pacs': '0',\n",
      "                                                           'total': '65266'}},\n",
      "                                          {'@attributes': {'indivs': '59045',\n",
      "                                                           'industry_code': 'F10',\n",
      "                                                           'industry_name': 'Real '\n",
      "                                                                            'Estate',\n",
      "                                                           'pacs': '1000',\n",
      "                                                           'total': '60045'}}]}}}\n"
     ]
    }
   ],
   "source": [
    "candidate_json = candidate_r.json()\n",
    "pprint(candidate_json)"
   ]
  },
  {
   "cell_type": "code",
   "execution_count": 57,
   "metadata": {},
   "outputs": [],
   "source": [
    "#subject = 'marijuana'\n",
    "subject = 'meat'\n",
    "\n",
    "propublica_url = f\"https://api.propublica.org/congress/v1/bills/subjects/{subject}.json\"\n",
    "headers = {'X-API-Key': 'propublica_api_key'}\n",
    "\n",
    "propublica_data = requests.get(propublica_url, headers=headers)"
   ]
  },
  {
   "cell_type": "code",
   "execution_count": 58,
   "metadata": {},
   "outputs": [
    {
     "data": {
      "text/plain": [
       "<Response [500]>"
      ]
     },
     "execution_count": 58,
     "metadata": {},
     "output_type": "execute_result"
    }
   ],
   "source": [
    "propublica_data"
   ]
  },
  {
   "cell_type": "code",
   "execution_count": null,
   "metadata": {},
   "outputs": [],
   "source": []
  }
 ],
 "metadata": {
  "kernelspec": {
   "display_name": "Python 3",
   "language": "python",
   "name": "python3"
  },
  "language_info": {
   "codemirror_mode": {
    "name": "ipython",
    "version": 3
   },
   "file_extension": ".py",
   "mimetype": "text/x-python",
   "name": "python",
   "nbconvert_exporter": "python",
   "pygments_lexer": "ipython3",
   "version": "3.7.0"
  }
 },
 "nbformat": 4,
 "nbformat_minor": 2
}
